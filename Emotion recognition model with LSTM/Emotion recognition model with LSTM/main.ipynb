{
 "cells": [
  {
   "cell_type": "code",
   "execution_count": 1,
   "id": "927e3c97-316f-4822-a1af-dbe5a15682be",
   "metadata": {
    "scrolled": true
   },
   "outputs": [
    {
     "name": "stdout",
     "output_type": "stream",
     "text": [
      "Requirement already satisfied: torch in c:\\users\\melis\\anaconda3\\lib\\site-packages (2.3.1)\n",
      "Requirement already satisfied: torchvision in c:\\users\\melis\\anaconda3\\lib\\site-packages (0.18.1)\n",
      "Requirement already satisfied: torchaudio in c:\\users\\melis\\anaconda3\\lib\\site-packages (2.3.1)\n",
      "Requirement already satisfied: filelock in c:\\users\\melis\\anaconda3\\lib\\site-packages (from torch) (3.13.1)\n",
      "Requirement already satisfied: typing-extensions>=4.8.0 in c:\\users\\melis\\anaconda3\\lib\\site-packages (from torch) (4.11.0)\n",
      "Requirement already satisfied: sympy in c:\\users\\melis\\anaconda3\\lib\\site-packages (from torch) (1.12)\n",
      "Requirement already satisfied: networkx in c:\\users\\melis\\anaconda3\\lib\\site-packages (from torch) (3.2.1)\n",
      "Requirement already satisfied: jinja2 in c:\\users\\melis\\anaconda3\\lib\\site-packages (from torch) (3.1.4)\n",
      "Requirement already satisfied: fsspec in c:\\users\\melis\\anaconda3\\lib\\site-packages (from torch) (2024.3.1)\n",
      "Requirement already satisfied: mkl<=2021.4.0,>=2021.1.1 in c:\\users\\melis\\anaconda3\\lib\\site-packages (from torch) (2021.4.0)\n",
      "Requirement already satisfied: numpy in c:\\users\\melis\\anaconda3\\lib\\site-packages (from torchvision) (1.26.4)\n",
      "Requirement already satisfied: pillow!=8.3.*,>=5.3.0 in c:\\users\\melis\\anaconda3\\lib\\site-packages (from torchvision) (10.3.0)\n",
      "Requirement already satisfied: intel-openmp==2021.* in c:\\users\\melis\\anaconda3\\lib\\site-packages (from mkl<=2021.4.0,>=2021.1.1->torch) (2021.4.0)\n",
      "Requirement already satisfied: tbb==2021.* in c:\\users\\melis\\anaconda3\\lib\\site-packages (from mkl<=2021.4.0,>=2021.1.1->torch) (2021.13.1)\n",
      "Requirement already satisfied: MarkupSafe>=2.0 in c:\\users\\melis\\anaconda3\\lib\\site-packages (from jinja2->torch) (2.1.3)\n",
      "Requirement already satisfied: mpmath>=0.19 in c:\\users\\melis\\anaconda3\\lib\\site-packages (from sympy->torch) (1.3.0)\n"
     ]
    }
   ],
   "source": [
    "!pip3 install torch torchvision torchaudio\n"
   ]
  },
  {
   "cell_type": "code",
   "execution_count": 2,
   "id": "fd5e7371-d3ab-4b89-897a-ac78dc8c22ba",
   "metadata": {},
   "outputs": [
    {
     "name": "stdout",
     "output_type": "stream",
     "text": [
      "Requirement already satisfied: torchtext in c:\\users\\melis\\anaconda3\\lib\\site-packages (0.18.0)\n",
      "Requirement already satisfied: tqdm in c:\\users\\melis\\anaconda3\\lib\\site-packages (from torchtext) (4.66.4)\n",
      "Requirement already satisfied: requests in c:\\users\\melis\\anaconda3\\lib\\site-packages (from torchtext) (2.32.2)\n",
      "Requirement already satisfied: torch>=2.3.0 in c:\\users\\melis\\anaconda3\\lib\\site-packages (from torchtext) (2.3.1)\n",
      "Requirement already satisfied: numpy in c:\\users\\melis\\anaconda3\\lib\\site-packages (from torchtext) (1.26.4)\n",
      "Requirement already satisfied: filelock in c:\\users\\melis\\anaconda3\\lib\\site-packages (from torch>=2.3.0->torchtext) (3.13.1)\n",
      "Requirement already satisfied: typing-extensions>=4.8.0 in c:\\users\\melis\\anaconda3\\lib\\site-packages (from torch>=2.3.0->torchtext) (4.11.0)\n",
      "Requirement already satisfied: sympy in c:\\users\\melis\\anaconda3\\lib\\site-packages (from torch>=2.3.0->torchtext) (1.12)\n",
      "Requirement already satisfied: networkx in c:\\users\\melis\\anaconda3\\lib\\site-packages (from torch>=2.3.0->torchtext) (3.2.1)\n",
      "Requirement already satisfied: jinja2 in c:\\users\\melis\\anaconda3\\lib\\site-packages (from torch>=2.3.0->torchtext) (3.1.4)\n",
      "Requirement already satisfied: fsspec in c:\\users\\melis\\anaconda3\\lib\\site-packages (from torch>=2.3.0->torchtext) (2024.3.1)\n",
      "Requirement already satisfied: mkl<=2021.4.0,>=2021.1.1 in c:\\users\\melis\\anaconda3\\lib\\site-packages (from torch>=2.3.0->torchtext) (2021.4.0)\n",
      "Requirement already satisfied: charset-normalizer<4,>=2 in c:\\users\\melis\\anaconda3\\lib\\site-packages (from requests->torchtext) (2.0.4)\n",
      "Requirement already satisfied: idna<4,>=2.5 in c:\\users\\melis\\anaconda3\\lib\\site-packages (from requests->torchtext) (3.7)\n",
      "Requirement already satisfied: urllib3<3,>=1.21.1 in c:\\users\\melis\\anaconda3\\lib\\site-packages (from requests->torchtext) (2.2.2)\n",
      "Requirement already satisfied: certifi>=2017.4.17 in c:\\users\\melis\\anaconda3\\lib\\site-packages (from requests->torchtext) (2024.8.30)\n",
      "Requirement already satisfied: colorama in c:\\users\\melis\\anaconda3\\lib\\site-packages (from tqdm->torchtext) (0.4.6)\n",
      "Requirement already satisfied: intel-openmp==2021.* in c:\\users\\melis\\anaconda3\\lib\\site-packages (from mkl<=2021.4.0,>=2021.1.1->torch>=2.3.0->torchtext) (2021.4.0)\n",
      "Requirement already satisfied: tbb==2021.* in c:\\users\\melis\\anaconda3\\lib\\site-packages (from mkl<=2021.4.0,>=2021.1.1->torch>=2.3.0->torchtext) (2021.13.1)\n",
      "Requirement already satisfied: MarkupSafe>=2.0 in c:\\users\\melis\\anaconda3\\lib\\site-packages (from jinja2->torch>=2.3.0->torchtext) (2.1.3)\n",
      "Requirement already satisfied: mpmath>=0.19 in c:\\users\\melis\\anaconda3\\lib\\site-packages (from sympy->torch>=2.3.0->torchtext) (1.3.0)\n"
     ]
    }
   ],
   "source": [
    "!pip install torchtext"
   ]
  },
  {
   "cell_type": "code",
   "execution_count": null,
   "id": "71cd987e-ccac-4176-9a62-d0874e54f65a",
   "metadata": {},
   "outputs": [],
   "source": [
    "import pandas as pd\n",
    "import numpy as np\n",
    "import torch\n",
    "import torch.nn as nn\n",
    "import torch.optim as optim\n",
    "from sklearn.model_selection import train_test_split\n",
    "from sklearn.feature_extraction.text import CountVectorizer\n",
    "from torch.utils.data import DataLoader, TensorDataset, Dataset\n",
    "from torchtext.data.utils import get_tokenizer\n",
    "from torchtext.vocab import build_vocab_from_iterator\n",
    "from torch.nn.utils.rnn import pad_sequence\n",
    "from sklearn.preprocessing import LabelEncoder\n",
    "from sklearn.preprocessing import OneHotEncoder\n"
   ]
  },
  {
   "cell_type": "code",
   "execution_count": null,
   "id": "b868293c-8d03-40fe-936a-b9d46ff25654",
   "metadata": {},
   "outputs": [],
   "source": [
    "df_train = pd.read_csv('train.txt',  sep=';', names=['sentence', 'emotion'], encoding='utf-8')\n",
    "df_test = pd.read_csv('test.txt',sep=';', names= ['sentence', 'emotion'], encoding='utf-8')\n",
    "df_val = pd.read_csv('va.txt',sep=';', names=['sentence', 'emotion'], encoding='utf-8')\n"
   ]
  },
  {
   "cell_type": "code",
   "execution_count": 1,
   "id": "bd8433ba-e093-4ebe-930d-9b3cec54d98c",
   "metadata": {},
   "outputs": [
    {
     "ename": "NameError",
     "evalue": "name 'get_tokenizer' is not defined",
     "output_type": "error",
     "traceback": [
      "\u001b[1;31m---------------------------------------------------------------------------\u001b[0m",
      "\u001b[1;31mNameError\u001b[0m                                 Traceback (most recent call last)",
      "Cell \u001b[1;32mIn[1], line 1\u001b[0m\n\u001b[1;32m----> 1\u001b[0m tokenizer \u001b[38;5;241m=\u001b[39m get_tokenizer(\u001b[38;5;124m\"\u001b[39m\u001b[38;5;124mbasic_english\u001b[39m\u001b[38;5;124m\"\u001b[39m)\n\u001b[0;32m      3\u001b[0m \u001b[38;5;28;01mdef\u001b[39;00m \u001b[38;5;21msplit_tokens\u001b[39m(data_iter):\n\u001b[0;32m      4\u001b[0m     tokens \u001b[38;5;241m=\u001b[39m []\n",
      "\u001b[1;31mNameError\u001b[0m: name 'get_tokenizer' is not defined"
     ]
    }
   ],
   "source": [
    "tokenizer = get_tokenizer(\"basic_english\")\n",
    "\n",
    "def split_tokens(data_iter):\n",
    "    tokens = []\n",
    "    for text in data_iter:\n",
    "        tokens.extend(tokenizer(text))\n",
    "    return tokens\n",
    "\n",
    "#tokenler tek bir listede toplandı\n",
    "all_tokens = split_tokens(df_train['sentence'])\n",
    "#metindeki kelime sözlükte yoksa onun yerine unknown atandi\n",
    "vocab = build_vocab_from_iterator([all_tokens], specials=[\"<unk>\"])\n",
    "vocab.set_default_index(vocab[\"<unk>\"])\n",
    "\n"
   ]
  },
  {
   "cell_type": "code",
   "execution_count": null,
   "id": "b153ec80-16ae-41e3-bf64-9a0b0dc9c52d",
   "metadata": {},
   "outputs": [],
   "source": [
    "def text_to_vocab(x):\n",
    "    return vocab(tokenizer(x))\n",
    "\n",
    "def sequence_padding(batch):\n",
    "    tensor_batch = []\n",
    "    for item in batch:\n",
    "        tensor_batch.append(torch.tensor(text_to_vocab(item), dtype=torch.long))\n",
    "    return pad_sequence(tensor_batch, padding_value=vocab[\"<unk>\"], batch_first=True)\n",
    "\n",
    "X_train = []\n",
    "for text in df_train['sentence']:\n",
    "    X_train.append(text_to_vocab(text))\n",
    "\n",
    "X_val = []\n",
    "for text in df_val['sentence']:\n",
    "    X_val.append(text_to_vocab(text))\n",
    "\n",
    "X_test = []\n",
    "for text in df_test['sentence']:\n",
    "    X_test.append(text_to_vocab(text))\n",
    "\n",
    "\n",
    "X_train_pad = sequence_padding(df_train['sentence'])\n",
    "X_val_pad = sequence_padding(df_val['sentence'])\n",
    "X_test_pad = sequence_padding(df_test['sentence'])\n",
    "\n",
    "#her bir duygu için bir rakam belirlendi(kelimeler sayısal bir değer alacağı için)\n",
    "label_dict = {'joy': 0, 'anger': 1, 'love': 2, 'sadness': 3, 'fear': 4, 'surprise': 5}\n",
    "Y_train = df_train['emotion'].replace(label_dict).values\n",
    "Y_val = df_val['emotion'].replace(label_dict).values\n",
    "Y_test = df_test['emotion'].replace(label_dict).values\n",
    "\n",
    "Y_train_f = torch.eye(6)[Y_train]\n",
    "Y_val_f = torch.eye(6)[Y_val]\n",
    "Y_test_f = torch.eye(6)[Y_test]\n"
   ]
  },
  {
   "cell_type": "code",
   "execution_count": null,
   "id": "89ca1d66-045f-46e4-a5f2-6f64d1ab0645",
   "metadata": {},
   "outputs": [],
   "source": [
    "class EmotionDataset(Dataset):\n",
    "    def __init__(self, inputs, labels):\n",
    "        self.inputs = inputs\n",
    "        self.labels = labels\n",
    "    \n",
    "    def __len__(self):\n",
    "        return len(self.inputs)\n",
    "    \n",
    "    def __getitem__(self, idx):\n",
    "        return self.inputs[idx], self.labels[idx]\n",
    "\n",
    "train_dataset = EmotionDataset(X_train_pad, Y_train_f)\n",
    "val_dataset = EmotionDataset(X_val_pad, Y_val_f)\n",
    "test_dataset = EmotionDataset(X_test_pad, Y_test_f)\n",
    "\n",
    "train_loader = DataLoader(train_dataset, batch_size=32, shuffle=True)\n",
    "val_loader = DataLoader(val_dataset, batch_size=32, shuffle=False)\n",
    "test_loader = DataLoader(test_dataset, batch_size=32, shuffle=False)\n"
   ]
  },
  {
   "cell_type": "code",
   "execution_count": null,
   "id": "74b13068",
   "metadata": {},
   "outputs": [],
   "source": [
    "class EmotionModel(nn.Module):\n",
    "    def __init__(self, vocab_size, embedding_dim, hidden_dim, output_dim, n_layers, dropout,bidirectional):\n",
    "        nn.Module.__init__(self)\n",
    "        \n",
    "        # kelimeler vektörleştirildi\n",
    "        self.embedding = nn.Embedding(vocab_size, embedding_dim)\n",
    "        \n",
    "        if bidirectional:\n",
    "            self.fc = nn.Linear(hidden_dim * 2, output_dim)\n",
    "        else:\n",
    "            self.fc = nn.Linear(hidden_dim, output_dim)\n",
    "\n",
    "            \n",
    "        self.lstm = nn.LSTM(embedding_dim,hidden_dim,num_layers=n_layers,bidirectional= True,dropout=dropout,batch_first=True)\n",
    "     \n",
    "        self.dropout = nn.Dropout(dropout)\n",
    "    \n",
    "    def forward(self, text):\n",
    "        embedded = self.embedding(text)\n",
    "        \n",
    "        embedded_dropout = self.dropout(embedded)\n",
    "        \n",
    "        # (hidden, cell) son hidden'ı ve son cell'i alır\n",
    "        lstm_out, (hidden, cell) = self.lstm(embedded_dropout)\n",
    "    \n",
    "        if self.lstm.bidirectional:\n",
    "            hidden = torch.cat((hidden[-2,:,:], hidden[-1,:,:]), dim=1)\n",
    "        else:\n",
    "            hidden = hidden[-1,:,:]\n",
    "        hidden_dropout = self.dropout(hidden)\n",
    "        \n",
    "        output = self.fc(hidden_dropout)\n",
    "        \n",
    "        return output\n",
    "\n",
    "model = EmotionModel(vocab_size=len(vocab),embedding_dim=64,hidden_dim=80,output_dim=6,n_layers=2,dropout=0.6,bidirectional=True)\n"
   ]
  },
  {
   "cell_type": "code",
   "execution_count": null,
   "id": "53f0c90e-b5f2-4d26-a5af-4124c223d9ab",
   "metadata": {},
   "outputs": [],
   "source": [
    "cross_entropy = nn.CrossEntropyLoss()\n",
    "optimization = optim.Adam(model.parameters(), lr=0.001)\n",
    "#sistem çok yavaş çalıştığı için hızkandırmak adına böyle bir teknik bulduk\n",
    "device = torch.device('cuda' if torch.cuda.is_available() else 'cpu')\n",
    "model = model.to(device)\n",
    "cross_entropy = cross_entropy.to(device)\n",
    "\n",
    "def train(model, iterator, optimization, cross_entropy):\n",
    "    model.train()\n",
    "    epoch_loss = 0\n",
    "    for batch in iterator:\n",
    "        optimization.zero_grad()\n",
    "        text, labels = batch\n",
    "        text = text.to(device)\n",
    "        labels = labels.to(device)\n",
    "        predictions = model(text)\n",
    "        loss = cross_entropy(predictions, torch.max(labels, 1)[1])\n",
    "        loss.backward()\n",
    "        optimization.step()\n",
    "        epoch_loss += loss.item()\n",
    "    return epoch_loss / len(iterator)\n",
    "\n",
    "def evaluate(model, iterator, cross_entropy):\n",
    "    model.eval()\n",
    "    epoch_loss = 0\n",
    "    with torch.no_grad():\n",
    "        for batch in iterator:\n",
    "            text, labels = batch\n",
    "            text = text.to(device)\n",
    "            labels = labels.to(device)\n",
    "            predictions = model(text)\n",
    "            loss = cross_entropy(predictions, torch.max(labels, 1)[1])\n",
    "            epoch_loss += loss.item()\n",
    "    return epoch_loss / len(iterator)\n",
    "\n",
    "n_epochs = 15\n",
    "for epoch in range(n_epochs):\n",
    "    train_loss = train(model, train_loader, optimization, cross_entropy)\n",
    "    val_loss = evaluate(model, val_loader, cross_entropy)\n",
    "    print(f'Epoch {epoch+1}, Train Loss: {train_loss:.3f}, Val Loss: {val_loss:.3f}')\n",
    "    \n",
    "test_loss = evaluate(model, test_loader, cross_entropy)\n",
    "print(f'Test Loss: {test_loss:.3f}')"
   ]
  },
  {
   "cell_type": "code",
   "execution_count": null,
   "id": "e8118906-56e9-4bad-9ac8-715e1dcda631",
   "metadata": {},
   "outputs": [],
   "source": [
    "def get_key(value):\n",
    "    dictionary = {0: 'joy', 1: 'anger', 2: 'love', 3: 'sadness', 4: 'fear', 5: 'surprise'}\n",
    "    return dictionary[value]\n",
    "\n",
    "def predict(sentence, tokenizer, model, maxlen=80):\n",
    "    model.eval()\n",
    "    sentence_lst = [sentence]\n",
    "    \n",
    "    sentence_seq = []\n",
    "    for sentence in sentence_lst:\n",
    "        sentence_seq.append(text_to_vocab(sentence))\n",
    "\n",
    "    sentence_padded = sequence_padding(sentence_lst)\n",
    "    sentence_tensor = torch.tensor(sentence_padded, dtype=torch.long).to(device)\n",
    "    with torch.no_grad():\n",
    "        prediction = model(sentence_tensor)\n",
    "        predicted_class = prediction.argmax(dim=1).item()\n",
    "    return get_key(predicted_class)\n",
    "\n",
    "print(predict(\"while ı was laugh ı heard the\",tokenizer, model))\n"
   ]
  },
  {
   "cell_type": "code",
   "execution_count": null,
   "id": "a5b09849",
   "metadata": {},
   "outputs": [],
   "source": []
  }
 ],
 "metadata": {
  "kernelspec": {
   "display_name": "Python 3 (ipykernel)",
   "language": "python",
   "name": "python3"
  },
  "language_info": {
   "codemirror_mode": {
    "name": "ipython",
    "version": 3
   },
   "file_extension": ".py",
   "mimetype": "text/x-python",
   "name": "python",
   "nbconvert_exporter": "python",
   "pygments_lexer": "ipython3",
   "version": "3.12.4"
  }
 },
 "nbformat": 4,
 "nbformat_minor": 5
}
